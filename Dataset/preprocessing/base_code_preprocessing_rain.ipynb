{
 "cells": [
  {
   "cell_type": "code",
   "execution_count": 1,
   "metadata": {},
   "outputs": [],
   "source": [
    "import pandas as pd\n",
    "import numpy as np\n",
    "import matplotlib.pyplot as plt\n",
    "import seaborn as sns\n",
    "from scipy import stats\n",
    "from statsmodels.regression.quantile_regression import QuantReg"
   ]
  },
  {
   "cell_type": "code",
   "execution_count": 2,
   "metadata": {},
   "outputs": [
    {
     "name": "stdout",
     "output_type": "stream",
     "text": [
      "Memproses data untuk file /run/media/cryptedlm/localdisk/Kuliah/Tugas Akhir/Dataset/Buoys/0N90E/ASCII/convert/rain0n90e_dy.csv...\n"
     ]
    }
   ],
   "source": [
    "# Baca file CSV\n",
    "file_path = '/run/media/cryptedlm/localdisk/Kuliah/Tugas Akhir/Dataset/Buoys/0N90E/ASCII/convert/rain0n90e_dy.csv'\n",
    "df = pd.read_csv(file_path)\n",
    "print(f\"Memproses data untuk file {file_path}...\")"
   ]
  },
  {
   "cell_type": "code",
   "execution_count": 3,
   "metadata": {},
   "outputs": [],
   "source": [
    "# Konversi Date dan set sebagai indeks\n",
    "df['Date'] = pd.to_datetime(df['Date'])\n",
    "df.set_index('Date', inplace=True)\n"
   ]
  },
  {
   "cell_type": "code",
   "execution_count": 4,
   "metadata": {},
   "outputs": [
    {
     "data": {
      "text/html": [
       "<div>\n",
       "<style scoped>\n",
       "    .dataframe tbody tr th:only-of-type {\n",
       "        vertical-align: middle;\n",
       "    }\n",
       "\n",
       "    .dataframe tbody tr th {\n",
       "        vertical-align: top;\n",
       "    }\n",
       "\n",
       "    .dataframe thead th {\n",
       "        text-align: right;\n",
       "    }\n",
       "</style>\n",
       "<table border=\"1\" class=\"dataframe\">\n",
       "  <thead>\n",
       "    <tr style=\"text-align: right;\">\n",
       "      <th></th>\n",
       "      <th>Year</th>\n",
       "      <th>Month</th>\n",
       "      <th>Day</th>\n",
       "      <th>Prec</th>\n",
       "      <th>StDev</th>\n",
       "      <th>%Time</th>\n",
       "      <th>Q</th>\n",
       "      <th>S</th>\n",
       "    </tr>\n",
       "    <tr>\n",
       "      <th>Date</th>\n",
       "      <th></th>\n",
       "      <th></th>\n",
       "      <th></th>\n",
       "      <th></th>\n",
       "      <th></th>\n",
       "      <th></th>\n",
       "      <th></th>\n",
       "      <th></th>\n",
       "    </tr>\n",
       "  </thead>\n",
       "  <tbody>\n",
       "    <tr>\n",
       "      <th>2005-01-01</th>\n",
       "      <td>2005</td>\n",
       "      <td>Januari</td>\n",
       "      <td>1</td>\n",
       "      <td>0.36</td>\n",
       "      <td>1.20</td>\n",
       "      <td>9.7</td>\n",
       "      <td>2</td>\n",
       "      <td>5</td>\n",
       "    </tr>\n",
       "    <tr>\n",
       "      <th>2005-01-02</th>\n",
       "      <td>2005</td>\n",
       "      <td>Januari</td>\n",
       "      <td>2</td>\n",
       "      <td>0.19</td>\n",
       "      <td>0.46</td>\n",
       "      <td>6.9</td>\n",
       "      <td>2</td>\n",
       "      <td>5</td>\n",
       "    </tr>\n",
       "    <tr>\n",
       "      <th>2005-01-03</th>\n",
       "      <td>2005</td>\n",
       "      <td>Januari</td>\n",
       "      <td>3</td>\n",
       "      <td>0.00</td>\n",
       "      <td>0.01</td>\n",
       "      <td>0.0</td>\n",
       "      <td>2</td>\n",
       "      <td>5</td>\n",
       "    </tr>\n",
       "    <tr>\n",
       "      <th>2005-01-04</th>\n",
       "      <td>2005</td>\n",
       "      <td>Januari</td>\n",
       "      <td>4</td>\n",
       "      <td>0.13</td>\n",
       "      <td>1.13</td>\n",
       "      <td>1.4</td>\n",
       "      <td>2</td>\n",
       "      <td>5</td>\n",
       "    </tr>\n",
       "    <tr>\n",
       "      <th>2005-01-05</th>\n",
       "      <td>2005</td>\n",
       "      <td>Januari</td>\n",
       "      <td>5</td>\n",
       "      <td>0.95</td>\n",
       "      <td>3.48</td>\n",
       "      <td>10.4</td>\n",
       "      <td>2</td>\n",
       "      <td>5</td>\n",
       "    </tr>\n",
       "  </tbody>\n",
       "</table>\n",
       "</div>"
      ],
      "text/plain": [
       "            Year    Month  Day  Prec  StDev  %Time  Q  S\n",
       "Date                                                    \n",
       "2005-01-01  2005  Januari    1  0.36   1.20    9.7  2  5\n",
       "2005-01-02  2005  Januari    2  0.19   0.46    6.9  2  5\n",
       "2005-01-03  2005  Januari    3  0.00   0.01    0.0  2  5\n",
       "2005-01-04  2005  Januari    4  0.13   1.13    1.4  2  5\n",
       "2005-01-05  2005  Januari    5  0.95   3.48   10.4  2  5"
      ]
     },
     "execution_count": 4,
     "metadata": {},
     "output_type": "execute_result"
    }
   ],
   "source": [
    "df.head(5)"
   ]
  },
  {
   "cell_type": "code",
   "execution_count": 5,
   "metadata": {},
   "outputs": [
    {
     "name": "stdout",
     "output_type": "stream",
     "text": [
      "\n",
      "--- LANGKAH 1: PENANGANAN MISSING VALUES ---\n",
      "Missing values sebelum cleaning:\n",
      "Year      0\n",
      "Month     0\n",
      "Day       0\n",
      "Prec     81\n",
      "StDev     5\n",
      "%Time     5\n",
      "Q         0\n",
      "S         0\n",
      "dtype: int64\n"
     ]
    }
   ],
   "source": [
    "# 1. Penanganan Missing Values\n",
    "print(\"\\n--- LANGKAH 1: PENANGANAN MISSING VALUES ---\")\n",
    "before_cleaning = df.isna().sum()\n",
    "print(f\"Missing values sebelum cleaning:\\n{before_cleaning}\")\n"
   ]
  },
  {
   "cell_type": "code",
   "execution_count": 6,
   "metadata": {},
   "outputs": [],
   "source": [
    "# Handle missing values berdasarkan Quality Code\n",
    "def handle_missing_rainfall(row):\n",
    "    if pd.isna(row['Prec']):\n",
    "        return 0\n",
    "    return row['Q']\n",
    "    "
   ]
  },
  {
   "cell_type": "code",
   "execution_count": 7,
   "metadata": {},
   "outputs": [
    {
     "name": "stdout",
     "output_type": "stream",
     "text": [
      "Missing values setelah penanganan awal:\n",
      "Year      0\n",
      "Month     0\n",
      "Day       0\n",
      "Prec     81\n",
      "StDev     5\n",
      "%Time     5\n",
      "Q         0\n",
      "S         0\n",
      "dtype: int64\n"
     ]
    }
   ],
   "source": [
    "# Update Quality Code untuk data yang hilang\n",
    "df['Q'] = df.apply(handle_missing_rainfall, axis=1)\n",
    "df['Q'] = df['Q'].astype(int)\n",
    "df['S'] = df['S'].astype(int)\n",
    "print(f\"Missing values setelah penanganan awal:\\n{df.isna().sum()}\")\n",
    "\n"
   ]
  },
  {
   "cell_type": "code",
   "execution_count": 8,
   "metadata": {},
   "outputs": [
    {
     "name": "stdout",
     "output_type": "stream",
     "text": [
      "\n",
      "--- LANGKAH 2: FILTERING BERDASARKAN QUALITY & SOURCE CODES ---\n",
      "Distribusi Quality Code (Q):\n",
      "Q\n",
      "0      81\n",
      "1    1055\n",
      "2    2139\n",
      "Name: count, dtype: int64\n",
      "Distribusi Source Code (S):\n",
      "S\n",
      "0       4\n",
      "1    1520\n",
      "5    1751\n",
      "Name: count, dtype: int64\n"
     ]
    }
   ],
   "source": [
    "# 2. Filtering Data Berdasarkan Quality dan Source Codes\n",
    "print(\"\\n--- LANGKAH 2: FILTERING BERDASARKAN QUALITY & SOURCE CODES ---\")\n",
    "print(f\"Distribusi Quality Code (Q):\\n{df['Q'].value_counts().sort_index()}\")\n",
    "print(f\"Distribusi Source Code (S):\\n{df['S'].value_counts().sort_index()}\")\n"
   ]
  },
  {
   "cell_type": "code",
   "execution_count": 9,
   "metadata": {},
   "outputs": [],
   "source": [
    "# Buat copy data untuk proses cleaning\n",
    "df_clean = df.copy()"
   ]
  },
  {
   "cell_type": "code",
   "execution_count": 10,
   "metadata": {},
   "outputs": [
    {
     "name": "stdout",
     "output_type": "stream",
     "text": [
      "Menghapus 81 baris dengan Q=0 atau Q=5\n"
     ]
    }
   ],
   "source": [
    "# Filter out data dengan Q=0 (datum missing) dan Q=5 (sensor failed)\n",
    "df_clean = df_clean[~df_clean['Q'].isin([0, 5])]\n",
    "print(f\"Menghapus {len(df) - len(df_clean)} baris dengan Q=0 atau Q=5\")"
   ]
  },
  {
   "cell_type": "code",
   "execution_count": 11,
   "metadata": {},
   "outputs": [],
   "source": [
    "# Prioritaskan data berdasarkan Source Code\n",
    "def prioritize_source(group):\n",
    "    if len(group) == 1:\n",
    "        return group\n",
    "    if 5 in group['S'].values:\n",
    "        return group[group['S'] == 5].iloc[0:1]\n",
    "    elif 1 in group['S'].values:\n",
    "        return group[group['S'] == 1].iloc[0:1]\n",
    "    else:\n",
    "        return group.iloc[0:1]\n"
   ]
  },
  {
   "cell_type": "code",
   "execution_count": 12,
   "metadata": {},
   "outputs": [
    {
     "name": "stdout",
     "output_type": "stream",
     "text": [
      "Tidak ditemukan date atau timestamp duplikat\n"
     ]
    }
   ],
   "source": [
    "# Check for duplicate timestamps\n",
    "if df_clean.index.duplicated().any():\n",
    "    print(f\"Ditemukan {df_clean.index.duplicated().sum()} timestamp duplikat\")\n",
    "    df_clean = df_clean.groupby(level=0).apply(prioritize_source)\n",
    "    df_clean = df_clean.droplevel(1) if df_clean.index.nlevels > 1 else df_clean\n",
    "else:\n",
    "    print(\"Tidak ditemukan date atau timestamp duplikat\")"
   ]
  },
  {
   "cell_type": "code",
   "execution_count": 13,
   "metadata": {},
   "outputs": [
    {
     "name": "stdout",
     "output_type": "stream",
     "text": [
      "\n",
      "--- LANGKAH 3: DETEKSI DAN PENANGANAN OUTLIERS ---\n"
     ]
    }
   ],
   "source": [
    "# 3. Deteksi dan Penanganan Outliers\n",
    "print(\"\\n--- LANGKAH 3: DETEKSI DAN PENANGANAN OUTLIERS ---\")\n",
    "\n",
    "def detect_rainfall_outliers(df):\n",
    "    # Deteksi outliers menggunakan multiple criteria\n",
    "    \n",
    "    # 1. Physical constraints\n",
    "    physical_outliers = (df['Prec'] < 0) | (df['Prec'] > 500)  # 500mm/day adalah curah hujan ekstrem\n",
    "    \n",
    "    # 2. Statistical outliers (Modified Z-score untuk data skewed)\n",
    "    median = df['Prec'].median()\n",
    "    mad = stats.median_abs_deviation(df['Prec'])\n",
    "    modified_z_scores = 0.6745 * (df['Prec'] - median) / mad\n",
    "    statistical_outliers = np.abs(modified_z_scores) > 3.5\n",
    "    \n",
    "    # 3. Consistency check dengan %Time\n",
    "    time_inconsistent = (df['Prec'] > 0) & (df['%Time'] == 0)\n",
    "    \n",
    "    return physical_outliers | statistical_outliers | time_inconsistent"
   ]
  },
  {
   "cell_type": "code",
   "execution_count": 14,
   "metadata": {},
   "outputs": [
    {
     "name": "stdout",
     "output_type": "stream",
     "text": [
      "Terdeteksi 1666 outliers (52.16% dari data)\n"
     ]
    }
   ],
   "source": [
    "\n",
    "# Terapkan deteksi outliers\n",
    "outliers = detect_rainfall_outliers(df_clean)\n",
    "outlier_count = outliers.sum()\n",
    "print(f\"Terdeteksi {outlier_count} outliers ({outlier_count/len(df_clean)*100:.2f}% dari data)\")"
   ]
  },
  {
   "cell_type": "code",
   "execution_count": 15,
   "metadata": {},
   "outputs": [],
   "source": [
    "# Update Quality Code untuk outliers\n",
    "df_clean.loc[outliers & ~df_clean['Q'].isin([3, 4]), 'Q'] = 4"
   ]
  },
  {
   "cell_type": "code",
   "execution_count": 16,
   "metadata": {},
   "outputs": [
    {
     "name": "stdout",
     "output_type": "stream",
     "text": [
      "\n",
      "--- LANGKAH 4: QUANTILE REGRESSION SMOOTHING ---\n"
     ]
    }
   ],
   "source": [
    "# 4. Quantile Regression Smoothing\n",
    "print(\"\\n--- LANGKAH 4: QUANTILE REGRESSION SMOOTHING ---\")\n",
    "\n",
    "def apply_quantile_smoothing(data, tau=0.5, window=30):\n",
    "    # Buat array time index\n",
    "    time_idx = np.arange(len(data))\n",
    "    \n",
    "    # Inisialisasi array untuk hasil smoothing\n",
    "    smoothed = np.zeros(len(data))\n",
    "    \n",
    "    # Aplikasikan quantile regression dengan rolling window\n",
    "    for i in range(len(data)):\n",
    "        start_idx = max(0, i - window//2)\n",
    "        end_idx = min(len(data), i + window//2)\n",
    "        \n",
    "        window_data = data.iloc[start_idx:end_idx]\n",
    "        window_time = time_idx[start_idx:end_idx]\n",
    "        \n",
    "        if len(window_data) > 5:  # Minimal 5 point untuk fitting\n",
    "            model = QuantReg(window_data, window_time - window_time[0])\n",
    "            results = model.fit(q=tau)\n",
    "            smoothed[i] = results.predict([time_idx[i] - window_time[0]])[0]\n",
    "        else:\n",
    "            smoothed[i] = data.iloc[i]\n",
    "    \n",
    "    return smoothed"
   ]
  },
  {
   "cell_type": "code",
   "execution_count": 17,
   "metadata": {},
   "outputs": [
    {
     "name": "stderr",
     "output_type": "stream",
     "text": [
      "/home/cryptedlm/python-venv/tugas-akhir/lib/python3.12/site-packages/statsmodels/regression/quantile_regression.py:203: RuntimeWarning: divide by zero encountered in scalar divide\n",
      "  fhat0 = 1. / (nobs * h) * np.sum(kernel(e / h))\n",
      "/home/cryptedlm/python-venv/tugas-akhir/lib/python3.12/site-packages/statsmodels/regression/quantile_regression.py:203: RuntimeWarning: invalid value encountered in divide\n",
      "  fhat0 = 1. / (nobs * h) * np.sum(kernel(e / h))\n",
      "/home/cryptedlm/python-venv/tugas-akhir/lib/python3.12/site-packages/statsmodels/regression/quantile_regression.py:203: RuntimeWarning: divide by zero encountered in divide\n",
      "  fhat0 = 1. / (nobs * h) * np.sum(kernel(e / h))\n",
      "/home/cryptedlm/python-venv/tugas-akhir/lib/python3.12/site-packages/statsmodels/regression/quantile_regression.py:236: RuntimeWarning: invalid value encountered in multiply\n",
      "  kernels['epa'] = lambda u: 3. / 4 * (1-u**2) * np.where(np.abs(u) <= 1, 1, 0)\n"
     ]
    },
    {
     "name": "stdout",
     "output_type": "stream",
     "text": [
      "Quantile regression smoothing berhasil diterapkan\n"
     ]
    }
   ],
   "source": [
    "# Terapkan smoothing hanya pada data valid (Q=1 atau Q=2)\n",
    "valid_mask = df_clean['Q'].isin([1, 2])\n",
    "df_clean['Prec_Smoothed'] = np.nan\n",
    "\n",
    "if valid_mask.sum() > 0:\n",
    "    try:\n",
    "        smoothed_values = apply_quantile_smoothing(df_clean.loc[valid_mask, 'Prec'])\n",
    "        df_clean.loc[valid_mask, 'Prec_Smoothed'] = smoothed_values\n",
    "        print(\"Quantile regression smoothing berhasil diterapkan\")\n",
    "    except Exception as e:\n",
    "        print(f\"Gagal menerapkan quantile regression smoothing: {e}\")\n"
   ]
  },
  {
   "cell_type": "code",
   "execution_count": 18,
   "metadata": {},
   "outputs": [
    {
     "name": "stdout",
     "output_type": "stream",
     "text": [
      "\n",
      "--- LANGKAH 5: VISUALISASI HASIL ---\n"
     ]
    },
    {
     "data": {
      "text/plain": [
       "<Figure size 1500x1000 with 0 Axes>"
      ]
     },
     "execution_count": 18,
     "metadata": {},
     "output_type": "execute_result"
    },
    {
     "data": {
      "text/plain": [
       "<Figure size 1500x1000 with 0 Axes>"
      ]
     },
     "metadata": {},
     "output_type": "display_data"
    }
   ],
   "source": [
    "# 5. Visualisasi Hasil\n",
    "print(\"\\n--- LANGKAH 5: VISUALISASI HASIL ---\")\n",
    "\n",
    "plt.figure(figsize=(15, 10))"
   ]
  },
  {
   "cell_type": "code",
   "execution_count": 19,
   "metadata": {},
   "outputs": [
    {
     "data": {
      "image/png": "[encoded data removed]",
      "text/plain": [
       "<Figure size 640x480 with 1 Axes>"
      ]
     },
     "metadata": {},
     "output_type": "display_data"
    }
   ],
   "source": [
    "# Plot 1: Data asli vs Data bersih\n",
    "plt.subplot(2, 1, 1)\n",
    "plt.plot(df.index, df['Prec'], 'r.', alpha=0.5, label='Data Original')\n",
    "plt.plot(df_clean.index, df_clean['Prec_Smoothed'], 'b-', label='Data Cleaned & Smoothed (Quantile)')\n",
    "plt.legend()\n",
    "plt.title('Perbandingan Data Original vs Cleaned & Smoothed (Quantile Regression)')\n",
    "plt.ylabel('Rainfall (mm/day)')\n",
    "plt.grid(True, alpha=0.3)"
   ]
  },
  {
   "cell_type": "code",
   "execution_count": 20,
   "metadata": {},
   "outputs": [
    {
     "data": {
      "text/plain": [
       "Text(0, 0.5, 'Jumlah Data')"
      ]
     },
     "execution_count": 20,
     "metadata": {},
     "output_type": "execute_result"
    },
    {
     "data": {
      "image/png": "[encoded data removed]",
      "text/plain": [
       "<Figure size 640x480 with 1 Axes>"
      ]
     },
     "metadata": {},
     "output_type": "display_data"
    }
   ],
   "source": [
    "# Plot 2: Distribusi Quality Codes setelah cleaning\n",
    "plt.subplot(2, 2, 3)\n",
    "sns.countplot(x='Q', data=df_clean)\n",
    "plt.title('Distribusi Quality Codes Setelah Cleaning')\n",
    "plt.xlabel('Quality Code')\n",
    "plt.ylabel('Jumlah Data')"
   ]
  },
  {
   "cell_type": "code",
   "execution_count": 21,
   "metadata": {},
   "outputs": [
    {
     "data": {
      "text/plain": [
       "<matplotlib.legend.Legend at 0x7d43a6999c40>"
      ]
     },
     "execution_count": 21,
     "metadata": {},
     "output_type": "execute_result"
    },
    {
     "data": {
      "image/png": "[encoded data removed]",
      "text/plain": [
       "<Figure size 640x480 with 1 Axes>"
      ]
     },
     "metadata": {},
     "output_type": "display_data"
    }
   ],
   "source": [
    "\n",
    "# Plot 3: Histogram data setelah cleaning\n",
    "plt.subplot(2, 2, 4)\n",
    "plt.hist(df_clean['Prec'], bins=30, alpha=0.7, label='Original')\n",
    "plt.hist(df_clean['Prec_Smoothed'].dropna(), bins=30, alpha=0.5, label='Smoothed')\n",
    "plt.title('Distribusi Rainfall Setelah Cleaning')\n",
    "plt.xlabel('Rainfall (mm/day)')\n",
    "plt.ylabel('Frekuensi')\n",
    "plt.legend()"
   ]
  },
  {
   "cell_type": "code",
   "execution_count": 22,
   "metadata": {},
   "outputs": [
    {
     "name": "stdout",
     "output_type": "stream",
     "text": [
      "Visualisasi disimpan sebagai 'rainfall_data_cleaning_results.png'\n"
     ]
    },
    {
     "data": {
      "text/plain": [
       "<Figure size 640x480 with 0 Axes>"
      ]
     },
     "metadata": {},
     "output_type": "display_data"
    }
   ],
   "source": [
    "plt.tight_layout()\n",
    "plt.savefig('rainfall_data_cleaning_results.png')\n",
    "print(\"Visualisasi disimpan sebagai 'rainfall_data_cleaning_results.png'\")"
   ]
  },
  {
   "cell_type": "code",
   "execution_count": 23,
   "metadata": {},
   "outputs": [
    {
     "name": "stdout",
     "output_type": "stream",
     "text": [
      "\n",
      "--- LANGKAH 6: STATISTIK HASIL CLEANING ---\n",
      "Jumlah data original: 3275\n",
      "Jumlah data setelah cleaning: 3194\n",
      "Persentase data yang dipertahankan: 97.53%\n"
     ]
    }
   ],
   "source": [
    "# 6. Statistik Hasil\n",
    "print(\"\\n--- LANGKAH 6: STATISTIK HASIL CLEANING ---\")\n",
    "print(f\"Jumlah data original: {len(df)}\")\n",
    "print(f\"Jumlah data setelah cleaning: {len(df_clean)}\")\n",
    "print(f\"Persentase data yang dipertahankan: {len(df_clean)/len(df)*100:.2f}%\")\n"
   ]
  },
  {
   "cell_type": "code",
   "execution_count": 24,
   "metadata": {},
   "outputs": [
    {
     "name": "stdout",
     "output_type": "stream",
     "text": [
      "\n",
      "Statistik Data Original:\n",
      "count    3194.000000\n",
      "mean        0.252070\n",
      "std         0.782724\n",
      "min        -0.070000\n",
      "25%         0.000000\n",
      "50%         0.000000\n",
      "75%         0.160000\n",
      "max         9.830000\n",
      "Name: Prec, dtype: float64\n"
     ]
    }
   ],
   "source": [
    "\n",
    "print(\"\\nStatistik Data Original:\")\n",
    "print(df['Prec'].describe())\n"
   ]
  },
  {
   "cell_type": "code",
   "execution_count": 25,
   "metadata": {},
   "outputs": [
    {
     "name": "stdout",
     "output_type": "stream",
     "text": [
      "\n",
      "Statistik Data Cleaned & Smoothed:\n",
      "count    1.528000e+03\n",
      "mean     4.405767e-04\n",
      "std      1.892619e-03\n",
      "min      0.000000e+00\n",
      "25%      1.690190e-07\n",
      "50%      1.176621e-06\n",
      "75%      4.702801e-06\n",
      "max      1.499776e-02\n",
      "Name: Prec_Smoothed, dtype: float64\n"
     ]
    }
   ],
   "source": [
    "print(\"\\nStatistik Data Cleaned & Smoothed:\")\n",
    "print(df_clean['Prec_Smoothed'].describe())\n"
   ]
  },
  {
   "cell_type": "code",
   "execution_count": 26,
   "metadata": {},
   "outputs": [
    {
     "name": "stdout",
     "output_type": "stream",
     "text": [
      "Hasil preprocessing disimpan dalam file '/run/media/cryptedlm/localdisk/Kuliah/Tugas Akhir/Dataset/Buoys/0N90E/ASCII/convert/rain0n90e_dy_cleaned.xlsx'\n"
     ]
    }
   ],
   "source": [
    "# 7. Simpan hasil ke file Excel\n",
    "output_xlsx = file_path.replace('.csv', '_cleaned.xlsx')\n",
    "\n",
    "with pd.ExcelWriter(output_xlsx, engine='xlsxwriter') as writer:\n",
    "    df_clean.to_excel(writer, sheet_name='Cleaned Data')\n",
    "    \n",
    "    workbook = writer.book\n",
    "    worksheet = writer.sheets['Cleaned Data']\n",
    "    \n",
    "    for idx, col in enumerate(df_clean.columns):\n",
    "        max_len = max(df_clean[col].astype(str).map(len).max(), len(col)) + 2\n",
    "        worksheet.set_column(idx, idx, max_len)\n",
    "\n",
    "print(f\"Hasil preprocessing disimpan dalam file '{output_xlsx}'\")"
   ]
  },
  {
   "cell_type": "code",
   "execution_count": 27,
   "metadata": {},
   "outputs": [
    {
     "name": "stdout",
     "output_type": "stream",
     "text": [
      "\n",
      "--- RINGKASAN PROSES CLEANING ---\n",
      "1. 81 baris data difilter keluar\n",
      "2. 1666 outliers ditandai dengan Quality Code = 4\n",
      "3. Quantile Regression smoothing diterapkan pada data valid\n",
      "4. Hasil disimpan sebagai Excel dan visualisasi\n"
     ]
    }
   ],
   "source": [
    "# Tampilkan informasi akhir\n",
    "print(\"\\n--- RINGKASAN PROSES CLEANING ---\")\n",
    "print(f\"1. {len(df) - len(df_clean)} baris data difilter keluar\")\n",
    "print(f\"2. {outlier_count} outliers ditandai dengan Quality Code = 4\")\n",
    "print(f\"3. Quantile Regression smoothing diterapkan pada data valid\")\n",
    "print(f\"4. Hasil disimpan sebagai Excel dan visualisasi\")\n"
   ]
  },
  {
   "cell_type": "code",
   "execution_count": null,
   "metadata": {},
   "outputs": [],
   "source": []
  }
 ],
 "metadata": {
  "kernelspec": {
   "display_name": "tugas-akhir",
   "language": "python",
   "name": "python3"
  },
  "language_info": {
   "codemirror_mode": {
    "name": "ipython",
    "version": 3
   },
   "file_extension": ".py",
   "mimetype": "text/x-python",
   "name": "python",
   "nbconvert_exporter": "python",
   "pygments_lexer": "ipython3",
   "version": "3.12.7"
  }
 },
 "nbformat": 4,
 "nbformat_minor": 2
}
