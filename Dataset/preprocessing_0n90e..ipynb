{
 "cells": [
  {
   "cell_type": "code",
   "execution_count": 6,
   "metadata": {},
   "outputs": [],
   "source": [
    "import pandas as pd\n",
    "import numpy as np\n",
    "import matplotlib.pyplot as plt\n",
    "import seaborn as sns\n",
    "from scipy import stats\n",
    "from scipy.signal import savgol_filter"
   ]
  },
  {
   "cell_type": "code",
   "execution_count": 7,
   "metadata": {},
   "outputs": [
    {
     "name": "stdout",
     "output_type": "stream",
     "text": [
      "Memproses data untuk file /run/media/cryptedlm/localdisk/Kuliah/Tugas Akhir/Dataset/Buoys/0N90E/ASCII/convert/rad0n90e_dy.csv...\n"
     ]
    }
   ],
   "source": [
    "# Baca file CSV\n",
    "file_path = '/run/media/cryptedlm/localdisk/Kuliah/Tugas Akhir/Dataset/Buoys/0N90E/ASCII/convert/rad0n90e_dy.csv'  # Sesuaikan dengan nama file Anda\n",
    "df = pd.read_csv(file_path)\n",
    "print(f\"Memproses data untuk file {file_path}...\")"
   ]
  },
  {
   "cell_type": "code",
   "execution_count": 8,
   "metadata": {},
   "outputs": [],
   "source": [
    "# Konversi timestamp dan set sebagai indeks\n",
    "df['Timestamp'] = pd.to_datetime(df['Timestamp'])\n",
    "df.set_index('Timestamp', inplace=True)"
   ]
  },
  {
   "cell_type": "code",
   "execution_count": null,
   "metadata": {},
   "outputs": [],
   "source": [
    "# Hapus baris dengan Q=0 (data tidak berkualitas)\n",
    "df_quality = df[df['Q'] > 0].copy()"
   ]
  },
  {
   "cell_type": "code",
   "execution_count": null,
   "metadata": {},
   "outputs": [],
   "source": [
    "# 1. Analisis Deskriptif\n",
    "print(\"=== Statistik Deskriptif Curah Hujan ===\")\n",
    "print(df_quality['Prec'].describe())\n"
   ]
  },
  {
   "cell_type": "code",
   "execution_count": null,
   "metadata": {},
   "outputs": [],
   "source": [
    "# 2. Identifikasi dan visualisasi missing values\n",
    "plt.figure(figsize=(14, 6))\n",
    "plt.plot(df_quality.index, df_quality['Prec'], 'o-')\n",
    "plt.title('Curah Hujan di 0N 90E (Data Berkualitas)')\n",
    "plt.ylabel('Curah Hujan (mm/jam)')\n",
    "plt.xlabel('Tanggal')\n",
    "plt.grid(True)\n",
    "missing_periods = df[df['Q'] == 0].index\n",
    "for date in missing_periods:\n",
    "    plt.axvline(x=date, color='r', linestyle='--', alpha=0.3)\n",
    "plt.savefig('output/curah_hujan_0N90E.png')\n",
    "plt.close()\n"
   ]
  },
  {
   "cell_type": "code",
   "execution_count": null,
   "metadata": {},
   "outputs": [],
   "source": [
    "# 3. Analisis Pola Musiman\n",
    "# Resampling ke data bulanan (menggunakan nilai rata-rata jika ada lebih dari 1 pengukuran per bulan)\n",
    "monthly_data = df_quality['Prec'].resample('M').mean()\n",
    "\n",
    "# Membuat kolom bulan dan tahun\n",
    "monthly_df = pd.DataFrame(monthly_data)\n",
    "monthly_df['month'] = monthly_df.index.month\n",
    "monthly_df['year'] = monthly_df.index.year"
   ]
  },
  {
   "cell_type": "code",
   "execution_count": null,
   "metadata": {},
   "outputs": [],
   "source": [
    "# Plot rata-rata curah hujan per bulan (pola musiman)\n",
    "monthly_pattern = monthly_df.groupby('month')['Prec'].mean()\n",
    "months = ['Jan', 'Feb', 'Mar', 'Apr', 'May', 'Jun', 'Jul', 'Aug', 'Sep', 'Oct', 'Nov', 'Dec']"
   ]
  },
  {
   "cell_type": "code",
   "execution_count": null,
   "metadata": {},
   "outputs": [],
   "source": [
    "plt.figure(figsize=(12, 6))\n",
    "monthly_pattern.plot(kind='bar')\n",
    "plt.title('Rata-rata Curah Hujan Bulanan di 0N 90E (2005-2020)')\n",
    "plt.ylabel('Curah Hujan (mm/jam)')\n",
    "plt.xlabel('Bulan')\n",
    "plt.xticks(np.arange(12), months, rotation=45)\n",
    "plt.grid(True, axis='y')\n",
    "plt.savefig('output/pola_musiman_0N90E.png')\n",
    "plt.close()"
   ]
  },
  {
   "cell_type": "code",
   "execution_count": null,
   "metadata": {},
   "outputs": [],
   "source": [
    "# 4. Analisis Tren Jangka Panjang\n",
    "# Resampling ke data tahunan\n",
    "annual_data = df_quality['Prec'].resample('YE').mean()\n"
   ]
  },
  {
   "cell_type": "code",
   "execution_count": null,
   "metadata": {},
   "outputs": [],
   "source": [
    "# Plot tren tahunan\n",
    "plt.figure(figsize=(14, 6))\n",
    "annual_data.plot()\n",
    "plt.title('Tren Tahunan Curah Hujan di 0N 90E (2005-2020)')\n",
    "plt.ylabel('Rata-rata Curah Hujan (mm/jam)')\n",
    "plt.xlabel('Tahun')\n",
    "plt.savefig('output/tren_tahunan_curah_hujan_0N90E.png')\n",
    "plt.grid(True)"
   ]
  },
  {
   "cell_type": "code",
   "execution_count": null,
   "metadata": {},
   "outputs": [],
   "source": [
    "# Tambahkan garis tren linear\n",
    "slope, intercept, r_value, p_value, std_err = stats.linregress(np.arange(len(annual_data)), annual_data)\n",
    "plt.plot(annual_data.index, intercept + slope * np.arange(len(annual_data)), 'r--', \n",
    "         label=f'Tren: {slope:.4f} mm/tahun (p-value: {p_value:.4f})')\n",
    "plt.legend()\n",
    "plt.savefig('output/tren_tahunan_0N90E.png')\n",
    "plt.close()"
   ]
  },
  {
   "cell_type": "code",
   "execution_count": null,
   "metadata": {},
   "outputs": [],
   "source": [
    "# 5. Korelasi antara Curah Hujan dan Persentase Waktu\n",
    "plt.figure(figsize=(10, 6))\n",
    "sns.scatterplot(x='Prec', y='%Time', data=df_quality, hue='S')\n",
    "plt.title('Korelasi antara Curah Hujan dan Persentase Waktu')\n",
    "plt.xlabel('Curah Hujan (mm/jam)')\n",
    "plt.ylabel('Persentase Waktu (%)')\n",
    "plt.grid(True)\n",
    "plt.savefig('output/korelasi_curah_hujan_waktu_0N90E.png')\n",
    "plt.close()"
   ]
  },
  {
   "cell_type": "code",
   "execution_count": null,
   "metadata": {},
   "outputs": [],
   "source": [
    "# Setelah semua operasi preprocessing\n",
    "# Konversi kolom Q dan S menjadi integer\n",
    "df['Q'] = df['Q'].astype('Int64')  # Perhatikan 'I' kapital\n",
    "df['S'] = df['S'].astype(int)"
   ]
  },
  {
   "cell_type": "code",
   "execution_count": null,
   "metadata": {},
   "outputs": [],
   "source": [
    "# 6. Export data clean untuk analisis lebih lanjut\n",
    "df_quality.to_csv('cleaned/r0n90e_clean.csv')\n",
    "\n",
    "print(\"Analisis Selesai! Plot disimpan sebagai file PNG\")"
   ]
  }
 ],
 "metadata": {
  "kernelspec": {
   "display_name": "tugas-akhir",
   "language": "python",
   "name": "python3"
  },
  "language_info": {
   "codemirror_mode": {
    "name": "ipython",
    "version": 3
   },
   "file_extension": ".py",
   "mimetype": "text/x-python",
   "name": "python",
   "nbconvert_exporter": "python",
   "pygments_lexer": "ipython3",
   "version": "3.12.7"
  }
 },
 "nbformat": 4,
 "nbformat_minor": 2
}
