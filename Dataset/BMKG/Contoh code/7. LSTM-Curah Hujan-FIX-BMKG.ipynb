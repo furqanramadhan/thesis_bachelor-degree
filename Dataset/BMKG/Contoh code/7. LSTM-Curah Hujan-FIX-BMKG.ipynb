{
 "cells": [
  {
   "cell_type": "code",
   "execution_count": 20,
   "id": "9e0f3fb7",
   "metadata": {},
   "outputs": [],
   "source": [
    "import pandas as pd\n",
    "import numpy as np\n",
    "\n",
    "import matplotlib.pyplot as plt\n",
    "import seaborn as sns\n",
    "\n",
    "from sklearn.model_selection import train_test_split\n",
    "from sklearn.preprocessing import MinMaxScaler\n",
    "import tensorflow as tf\n",
    "from tensorflow.keras.models import Sequential\n",
    "from tensorflow.keras.layers import LSTM, Dense, Dropout\n",
    "from tensorflow.keras.callbacks import EarlyStopping, ModelCheckpoint"
   ]
  },
  {
   "cell_type": "code",
   "execution_count": 21,
   "id": "3c4e8b21",
   "metadata": {},
   "outputs": [],
   "source": [
    "df = pd.read_csv(\"bmkg.csv\", index_col='Tanggal', parse_dates=True)\n",
    "df.index.freq = 'D'"
   ]
  },
  {
   "cell_type": "code",
   "execution_count": 22,
   "id": "8c1f9aa0",
   "metadata": {},
   "outputs": [
    {
     "name": "stdout",
     "output_type": "stream",
     "text": [
      "<class 'pandas.core.frame.DataFrame'>\n",
      "DatetimeIndex: 5053 entries, 2011-01-01 to 2024-10-31\n",
      "Freq: D\n",
      "Data columns (total 3 columns):\n",
      " #   Column       Non-Null Count  Dtype  \n",
      "---  ------       --------------  -----  \n",
      " 0   Suhu         4808 non-null   float64\n",
      " 1   Kelembaban   4808 non-null   float64\n",
      " 2   Curah_Hujan  3478 non-null   float64\n",
      "dtypes: float64(3)\n",
      "memory usage: 157.9 KB\n"
     ]
    }
   ],
   "source": [
    "df.info()"
   ]
  },
  {
   "cell_type": "code",
   "execution_count": 23,
   "id": "4b5db3b4",
   "metadata": {},
   "outputs": [
    {
     "data": {
      "text/html": [
       "<div>\n",
       "<style scoped>\n",
       "    .dataframe tbody tr th:only-of-type {\n",
       "        vertical-align: middle;\n",
       "    }\n",
       "\n",
       "    .dataframe tbody tr th {\n",
       "        vertical-align: top;\n",
       "    }\n",
       "\n",
       "    .dataframe thead th {\n",
       "        text-align: right;\n",
       "    }\n",
       "</style>\n",
       "<table border=\"1\" class=\"dataframe\">\n",
       "  <thead>\n",
       "    <tr style=\"text-align: right;\">\n",
       "      <th></th>\n",
       "      <th>Suhu</th>\n",
       "      <th>Kelembaban</th>\n",
       "      <th>Curah_Hujan</th>\n",
       "    </tr>\n",
       "  </thead>\n",
       "  <tbody>\n",
       "    <tr>\n",
       "      <th>count</th>\n",
       "      <td>4808.000000</td>\n",
       "      <td>4808.000000</td>\n",
       "      <td>3478.000000</td>\n",
       "    </tr>\n",
       "    <tr>\n",
       "      <th>mean</th>\n",
       "      <td>27.362230</td>\n",
       "      <td>78.897671</td>\n",
       "      <td>1092.303910</td>\n",
       "    </tr>\n",
       "    <tr>\n",
       "      <th>std</th>\n",
       "      <td>1.231762</td>\n",
       "      <td>7.405878</td>\n",
       "      <td>2905.192928</td>\n",
       "    </tr>\n",
       "    <tr>\n",
       "      <th>min</th>\n",
       "      <td>23.100000</td>\n",
       "      <td>46.000000</td>\n",
       "      <td>0.000000</td>\n",
       "    </tr>\n",
       "    <tr>\n",
       "      <th>25%</th>\n",
       "      <td>26.500000</td>\n",
       "      <td>75.000000</td>\n",
       "      <td>0.000000</td>\n",
       "    </tr>\n",
       "    <tr>\n",
       "      <th>50%</th>\n",
       "      <td>27.300000</td>\n",
       "      <td>80.000000</td>\n",
       "      <td>2.800000</td>\n",
       "    </tr>\n",
       "    <tr>\n",
       "      <th>75%</th>\n",
       "      <td>28.200000</td>\n",
       "      <td>84.000000</td>\n",
       "      <td>20.600000</td>\n",
       "    </tr>\n",
       "    <tr>\n",
       "      <th>max</th>\n",
       "      <td>33.000000</td>\n",
       "      <td>98.000000</td>\n",
       "      <td>8888.000000</td>\n",
       "    </tr>\n",
       "  </tbody>\n",
       "</table>\n",
       "</div>"
      ],
      "text/plain": [
       "              Suhu   Kelembaban  Curah_Hujan\n",
       "count  4808.000000  4808.000000  3478.000000\n",
       "mean     27.362230    78.897671  1092.303910\n",
       "std       1.231762     7.405878  2905.192928\n",
       "min      23.100000    46.000000     0.000000\n",
       "25%      26.500000    75.000000     0.000000\n",
       "50%      27.300000    80.000000     2.800000\n",
       "75%      28.200000    84.000000    20.600000\n",
       "max      33.000000    98.000000  8888.000000"
      ]
     },
     "execution_count": 23,
     "metadata": {},
     "output_type": "execute_result"
    }
   ],
   "source": [
    "df.describe()"
   ]
  },
  {
   "cell_type": "code",
   "execution_count": 24,
   "id": "9dba0d41-da37-4c59-a09c-9c96efa34058",
   "metadata": {},
   "outputs": [
    {
     "name": "stdout",
     "output_type": "stream",
     "text": [
      "Jumlah null : 424\n"
     ]
    }
   ],
   "source": [
    "# Menghitung berapa kali angka 2 muncul di kolom tertentu, misalnya kolom 'nilai'\n",
    "jumlah_angka_dua = (df['Curah_Hujan'] == 8888).sum()\n",
    "\n",
    "# Menampilkan hasil\n",
    "print(f'Jumlah null : {jumlah_angka_dua}')"
   ]
  },
  {
   "cell_type": "code",
   "execution_count": 25,
   "id": "3b6fc23b-0ffa-4079-ad39-27935ccca6d8",
   "metadata": {},
   "outputs": [
    {
     "name": "stdout",
     "output_type": "stream",
     "text": [
      "            Suhu  Kelembaban  Curah_Hujan\n",
      "Tanggal                                  \n",
      "2011-01-01  25.2        89.0         22.0\n",
      "2011-01-02  26.5        85.0          5.0\n",
      "2011-01-03  26.8        86.0          5.0\n",
      "2011-01-04  25.9        89.0         16.0\n",
      "2011-01-05  26.5        85.0          0.0\n",
      "...          ...         ...          ...\n",
      "2024-10-27  27.5        75.0          0.0\n",
      "2024-10-28  28.8        75.0          4.5\n",
      "2024-10-29  28.3        75.0          0.0\n",
      "2024-10-30  27.3        76.0          0.0\n",
      "2024-10-31  27.7        74.0          0.0\n",
      "\n",
      "[5053 rows x 3 columns]\n"
     ]
    }
   ],
   "source": [
    "# Mengganti nilai spesifik dengan 0 di kolom tertentu\n",
    "nilai_spesifik = 8888  # Nilai yang ingin diubah\n",
    "cols_to_replace = ['Curah_Hujan', 'Kelembaban', 'Suhu']  # Kolom target\n",
    "\n",
    "for col in cols_to_replace:\n",
    "    df[col] = df[col].replace(nilai_spesifik, 0)  # Mengganti nilai spesifik dengan 0\n",
    "\n",
    "print(df)"
   ]
  },
  {
   "cell_type": "code",
   "execution_count": 26,
   "id": "32e50fb0-887e-4f9b-95c1-a7b4b157988a",
   "metadata": {},
   "outputs": [
    {
     "data": {
      "text/html": [
       "<div>\n",
       "<style scoped>\n",
       "    .dataframe tbody tr th:only-of-type {\n",
       "        vertical-align: middle;\n",
       "    }\n",
       "\n",
       "    .dataframe tbody tr th {\n",
       "        vertical-align: top;\n",
       "    }\n",
       "\n",
       "    .dataframe thead th {\n",
       "        text-align: right;\n",
       "    }\n",
       "</style>\n",
       "<table border=\"1\" class=\"dataframe\">\n",
       "  <thead>\n",
       "    <tr style=\"text-align: right;\">\n",
       "      <th></th>\n",
       "      <th>Suhu</th>\n",
       "      <th>Kelembaban</th>\n",
       "      <th>Curah_Hujan</th>\n",
       "    </tr>\n",
       "  </thead>\n",
       "  <tbody>\n",
       "    <tr>\n",
       "      <th>count</th>\n",
       "      <td>4808.000000</td>\n",
       "      <td>4808.000000</td>\n",
       "      <td>3478.000000</td>\n",
       "    </tr>\n",
       "    <tr>\n",
       "      <th>mean</th>\n",
       "      <td>27.362230</td>\n",
       "      <td>78.897671</td>\n",
       "      <td>8.775446</td>\n",
       "    </tr>\n",
       "    <tr>\n",
       "      <th>std</th>\n",
       "      <td>1.231762</td>\n",
       "      <td>7.405878</td>\n",
       "      <td>19.213520</td>\n",
       "    </tr>\n",
       "    <tr>\n",
       "      <th>min</th>\n",
       "      <td>23.100000</td>\n",
       "      <td>46.000000</td>\n",
       "      <td>0.000000</td>\n",
       "    </tr>\n",
       "    <tr>\n",
       "      <th>25%</th>\n",
       "      <td>26.500000</td>\n",
       "      <td>75.000000</td>\n",
       "      <td>0.000000</td>\n",
       "    </tr>\n",
       "    <tr>\n",
       "      <th>50%</th>\n",
       "      <td>27.300000</td>\n",
       "      <td>80.000000</td>\n",
       "      <td>0.800000</td>\n",
       "    </tr>\n",
       "    <tr>\n",
       "      <th>75%</th>\n",
       "      <td>28.200000</td>\n",
       "      <td>84.000000</td>\n",
       "      <td>8.000000</td>\n",
       "    </tr>\n",
       "    <tr>\n",
       "      <th>max</th>\n",
       "      <td>33.000000</td>\n",
       "      <td>98.000000</td>\n",
       "      <td>200.000000</td>\n",
       "    </tr>\n",
       "  </tbody>\n",
       "</table>\n",
       "</div>"
      ],
      "text/plain": [
       "              Suhu   Kelembaban  Curah_Hujan\n",
       "count  4808.000000  4808.000000  3478.000000\n",
       "mean     27.362230    78.897671     8.775446\n",
       "std       1.231762     7.405878    19.213520\n",
       "min      23.100000    46.000000     0.000000\n",
       "25%      26.500000    75.000000     0.000000\n",
       "50%      27.300000    80.000000     0.800000\n",
       "75%      28.200000    84.000000     8.000000\n",
       "max      33.000000    98.000000   200.000000"
      ]
     },
     "execution_count": 26,
     "metadata": {},
     "output_type": "execute_result"
    }
   ],
   "source": [
    "df.describe()\n",
    "#BMKG Sebelum Imputasi"
   ]
  },
  {
   "cell_type": "code",
   "execution_count": 27,
   "id": "f5f5aa6f-cc93-4136-866d-c38edd3d7cb4",
   "metadata": {},
   "outputs": [
    {
     "name": "stdout",
     "output_type": "stream",
     "text": [
      "            Suhu  Kelembaban  Curah_Hujan\n",
      "Tanggal                                  \n",
      "2011-01-01  25.2        89.0         22.0\n",
      "2011-01-02  26.5        85.0          5.0\n",
      "2011-01-03  26.8        86.0          5.0\n",
      "2011-01-04  25.9        89.0         16.0\n",
      "2011-01-05  26.5        85.0          0.0\n",
      "...          ...         ...          ...\n",
      "2024-10-27  27.5        75.0          0.0\n",
      "2024-10-28  28.8        75.0          4.5\n",
      "2024-10-29  28.3        75.0          0.0\n",
      "2024-10-30  27.3        76.0          0.0\n",
      "2024-10-31  27.7        74.0          0.0\n",
      "\n",
      "[5053 rows x 3 columns]\n"
     ]
    }
   ],
   "source": [
    "# Mengisi data kosong dengan mean dari masing-masing kolom\n",
    "cols_to_fill = ['Curah_Hujan', 'Kelembaban', 'Suhu']  # Kolom target\n",
    "\n",
    "for col in cols_to_fill:\n",
    "    mean_value = df[col].mean()  # Menghitung mean dari kolom\n",
    "    df[col] = df[col].fillna(mean_value)  # Mengisi nilai kosong dengan mean\n",
    "\n",
    "print(df)"
   ]
  },
  {
   "cell_type": "code",
   "execution_count": 28,
   "id": "ff272e9b-7f1b-4b3e-b3ad-6f80efbd58b3",
   "metadata": {},
   "outputs": [
    {
     "data": {
      "text/html": [
       "<div>\n",
       "<style scoped>\n",
       "    .dataframe tbody tr th:only-of-type {\n",
       "        vertical-align: middle;\n",
       "    }\n",
       "\n",
       "    .dataframe tbody tr th {\n",
       "        vertical-align: top;\n",
       "    }\n",
       "\n",
       "    .dataframe thead th {\n",
       "        text-align: right;\n",
       "    }\n",
       "</style>\n",
       "<table border=\"1\" class=\"dataframe\">\n",
       "  <thead>\n",
       "    <tr style=\"text-align: right;\">\n",
       "      <th></th>\n",
       "      <th>Suhu</th>\n",
       "      <th>Kelembaban</th>\n",
       "      <th>Curah_Hujan</th>\n",
       "    </tr>\n",
       "  </thead>\n",
       "  <tbody>\n",
       "    <tr>\n",
       "      <th>count</th>\n",
       "      <td>5053.000000</td>\n",
       "      <td>5053.000000</td>\n",
       "      <td>5053.000000</td>\n",
       "    </tr>\n",
       "    <tr>\n",
       "      <th>mean</th>\n",
       "      <td>27.362230</td>\n",
       "      <td>78.897671</td>\n",
       "      <td>8.775446</td>\n",
       "    </tr>\n",
       "    <tr>\n",
       "      <th>std</th>\n",
       "      <td>1.201523</td>\n",
       "      <td>7.224070</td>\n",
       "      <td>15.939607</td>\n",
       "    </tr>\n",
       "    <tr>\n",
       "      <th>min</th>\n",
       "      <td>23.100000</td>\n",
       "      <td>46.000000</td>\n",
       "      <td>0.000000</td>\n",
       "    </tr>\n",
       "    <tr>\n",
       "      <th>25%</th>\n",
       "      <td>26.600000</td>\n",
       "      <td>75.000000</td>\n",
       "      <td>0.000000</td>\n",
       "    </tr>\n",
       "    <tr>\n",
       "      <th>50%</th>\n",
       "      <td>27.362230</td>\n",
       "      <td>79.000000</td>\n",
       "      <td>6.500000</td>\n",
       "    </tr>\n",
       "    <tr>\n",
       "      <th>75%</th>\n",
       "      <td>28.100000</td>\n",
       "      <td>84.000000</td>\n",
       "      <td>8.775446</td>\n",
       "    </tr>\n",
       "    <tr>\n",
       "      <th>max</th>\n",
       "      <td>33.000000</td>\n",
       "      <td>98.000000</td>\n",
       "      <td>200.000000</td>\n",
       "    </tr>\n",
       "  </tbody>\n",
       "</table>\n",
       "</div>"
      ],
      "text/plain": [
       "              Suhu   Kelembaban  Curah_Hujan\n",
       "count  5053.000000  5053.000000  5053.000000\n",
       "mean     27.362230    78.897671     8.775446\n",
       "std       1.201523     7.224070    15.939607\n",
       "min      23.100000    46.000000     0.000000\n",
       "25%      26.600000    75.000000     0.000000\n",
       "50%      27.362230    79.000000     6.500000\n",
       "75%      28.100000    84.000000     8.775446\n",
       "max      33.000000    98.000000   200.000000"
      ]
     },
     "execution_count": 28,
     "metadata": {},
     "output_type": "execute_result"
    }
   ],
   "source": [
    "df.describe()\n",
    "#BMKG Setelah Imputasi"
   ]
  },
  {
   "cell_type": "code",
   "execution_count": 29,
   "id": "e0f954ec-21b6-43fd-afd1-62ad9182416a",
   "metadata": {},
   "outputs": [
    {
     "data": {
      "text/plain": [
       "[<matplotlib.lines.Line2D at 0x233568b0890>]"
      ]
     },
     "execution_count": 29,
     "metadata": {},
     "output_type": "execute_result"
    },
    {
     "data": {
      "image/png": "[encoded data removed]",
      "text/plain": [
       "<Figure size 1500x600 with 1 Axes>"
      ]
     },
     "metadata": {},
     "output_type": "display_data"
    }
   ],
   "source": [
    "plt.figure(figsize=(15, 6), dpi=100)\n",
    "plt.title('Curah_Hujan')\n",
    "plt.plot(df['Curah_Hujan'])"
   ]
  },
  {
   "cell_type": "code",
   "execution_count": 30,
   "id": "b9d5a520-286f-43c2-a43a-1c3c84e6150f",
   "metadata": {},
   "outputs": [],
   "source": [
    "from sklearn.preprocessing import StandardScaler\n",
    "# Normalize the data\n",
    "scaler = StandardScaler()\n",
    "data_scaled = scaler.fit_transform(df[['Curah_Hujan']])\n",
    "\n",
    "# === Step 3: Create Sequences for LSTM ===\n",
    "sequence_length = 700  # Menggunakan 700 hari terakhir untuk memprediksi\n",
    "X, y = [], []\n",
    "for i in range(sequence_length, len(data_scaled)):\n",
    "    X.append(data_scaled[i-sequence_length:i])\n",
    "    y.append(data_scaled[i])\n",
    "\n",
    "X, y = np.array(X), np.array(y)\n",
    "\n",
    "# Split data (90% train, 10% test)\n",
    "train_size = int(len(X) * 0.9)\n",
    "X_train, X_test = X[:train_size], X[train_size:]\n",
    "y_train, y_test = y[:train_size], y[train_size:]"
   ]
  },
  {
   "cell_type": "code",
   "execution_count": 31,
   "id": "06e6a772-e08b-4c42-bdca-a4d7001f7457",
   "metadata": {},
   "outputs": [
    {
     "name": "stdout",
     "output_type": "stream",
     "text": [
      "Epoch 1/100\n"
     ]
    },
    {
     "name": "stderr",
     "output_type": "stream",
     "text": [
      "C:\\Users\\TDMRC9\\anaconda3\\Lib\\site-packages\\keras\\src\\layers\\rnn\\rnn.py:200: UserWarning: Do not pass an `input_shape`/`input_dim` argument to a layer. When using Sequential models, prefer using an `Input(shape)` object as the first layer in the model instead.\n",
      "  super().__init__(**kwargs)\n"
     ]
    },
    {
     "name": "stdout",
     "output_type": "stream",
     "text": [
      "\u001b[1m123/123\u001b[0m \u001b[32m━━━━━━━━━━━━━━━━━━━━\u001b[0m\u001b[37m\u001b[0m \u001b[1m45s\u001b[0m 340ms/step - loss: 1.3284 - val_loss: 0.7483\n",
      "Epoch 2/100\n",
      "\u001b[1m123/123\u001b[0m \u001b[32m━━━━━━━━━━━━━━━━━━━━\u001b[0m\u001b[37m\u001b[0m \u001b[1m31s\u001b[0m 249ms/step - loss: 1.0656 - val_loss: 0.7523\n",
      "Epoch 3/100\n",
      "\u001b[1m123/123\u001b[0m \u001b[32m━━━━━━━━━━━━━━━━━━━━\u001b[0m\u001b[37m\u001b[0m \u001b[1m30s\u001b[0m 241ms/step - loss: 1.0527 - val_loss: 0.7567\n",
      "Epoch 4/100\n",
      "\u001b[1m123/123\u001b[0m \u001b[32m━━━━━━━━━━━━━━━━━━━━\u001b[0m\u001b[37m\u001b[0m \u001b[1m30s\u001b[0m 241ms/step - loss: 0.8636 - val_loss: 0.7707\n",
      "Epoch 5/100\n",
      "\u001b[1m123/123\u001b[0m \u001b[32m━━━━━━━━━━━━━━━━━━━━\u001b[0m\u001b[37m\u001b[0m \u001b[1m30s\u001b[0m 241ms/step - loss: 1.0946 - val_loss: 0.7513\n",
      "Epoch 6/100\n",
      "\u001b[1m123/123\u001b[0m \u001b[32m━━━━━━━━━━━━━━━━━━━━\u001b[0m\u001b[37m\u001b[0m \u001b[1m30s\u001b[0m 248ms/step - loss: 1.0089 - val_loss: 0.7623\n",
      "Epoch 7/100\n",
      "\u001b[1m123/123\u001b[0m \u001b[32m━━━━━━━━━━━━━━━━━━━━\u001b[0m\u001b[37m\u001b[0m \u001b[1m30s\u001b[0m 245ms/step - loss: 1.0001 - val_loss: 0.7562\n",
      "Epoch 8/100\n",
      "\u001b[1m123/123\u001b[0m \u001b[32m━━━━━━━━━━━━━━━━━━━━\u001b[0m\u001b[37m\u001b[0m \u001b[1m30s\u001b[0m 246ms/step - loss: 1.0143 - val_loss: 0.7515\n",
      "Epoch 9/100\n",
      "\u001b[1m123/123\u001b[0m \u001b[32m━━━━━━━━━━━━━━━━━━━━\u001b[0m\u001b[37m\u001b[0m \u001b[1m31s\u001b[0m 252ms/step - loss: 1.1554 - val_loss: 0.7454\n",
      "Epoch 10/100\n",
      "\u001b[1m123/123\u001b[0m \u001b[32m━━━━━━━━━━━━━━━━━━━━\u001b[0m\u001b[37m\u001b[0m \u001b[1m31s\u001b[0m 251ms/step - loss: 1.0352 - val_loss: 0.7645\n",
      "Epoch 11/100\n",
      "\u001b[1m123/123\u001b[0m \u001b[32m━━━━━━━━━━━━━━━━━━━━\u001b[0m\u001b[37m\u001b[0m \u001b[1m31s\u001b[0m 248ms/step - loss: 1.1578 - val_loss: 0.7551\n",
      "Epoch 12/100\n",
      "\u001b[1m123/123\u001b[0m \u001b[32m━━━━━━━━━━━━━━━━━━━━\u001b[0m\u001b[37m\u001b[0m \u001b[1m30s\u001b[0m 246ms/step - loss: 1.0025 - val_loss: 0.7606\n",
      "Epoch 13/100\n",
      "\u001b[1m123/123\u001b[0m \u001b[32m━━━━━━━━━━━━━━━━━━━━\u001b[0m\u001b[37m\u001b[0m \u001b[1m30s\u001b[0m 246ms/step - loss: 1.0671 - val_loss: 0.7481\n",
      "Epoch 14/100\n",
      "\u001b[1m123/123\u001b[0m \u001b[32m━━━━━━━━━━━━━━━━━━━━\u001b[0m\u001b[37m\u001b[0m \u001b[1m31s\u001b[0m 255ms/step - loss: 1.0314 - val_loss: 0.7643\n",
      "Epoch 15/100\n",
      "\u001b[1m123/123\u001b[0m \u001b[32m━━━━━━━━━━━━━━━━━━━━\u001b[0m\u001b[37m\u001b[0m \u001b[1m30s\u001b[0m 243ms/step - loss: 1.1061 - val_loss: 0.7455\n",
      "Epoch 16/100\n",
      "\u001b[1m123/123\u001b[0m \u001b[32m━━━━━━━━━━━━━━━━━━━━\u001b[0m\u001b[37m\u001b[0m \u001b[1m30s\u001b[0m 244ms/step - loss: 1.0407 - val_loss: 0.7547\n",
      "Epoch 17/100\n",
      "\u001b[1m123/123\u001b[0m \u001b[32m━━━━━━━━━━━━━━━━━━━━\u001b[0m\u001b[37m\u001b[0m \u001b[1m30s\u001b[0m 243ms/step - loss: 1.1475 - val_loss: 0.7541\n",
      "Epoch 18/100\n",
      "\u001b[1m123/123\u001b[0m \u001b[32m━━━━━━━━━━━━━━━━━━━━\u001b[0m\u001b[37m\u001b[0m \u001b[1m30s\u001b[0m 245ms/step - loss: 0.9761 - val_loss: 0.7630\n",
      "Epoch 19/100\n",
      "\u001b[1m123/123\u001b[0m \u001b[32m━━━━━━━━━━━━━━━━━━━━\u001b[0m\u001b[37m\u001b[0m \u001b[1m30s\u001b[0m 243ms/step - loss: 1.0599 - val_loss: 0.7624\n"
     ]
    }
   ],
   "source": [
    "# === Step 4: Build LSTM Model ===\n",
    "model = Sequential([\n",
    "    LSTM(128, return_sequences=True, input_shape=(X_train.shape[1], X_train.shape[2])),\n",
    "    Dropout(0.2),\n",
    "    LSTM(64, return_sequences=False),\n",
    "    Dropout(0.2),\n",
    "    Dense(1)  # Output layer untuk satu langkah prediksi\n",
    "])\n",
    "\n",
    "model.compile(optimizer='adam', loss='mean_squared_error')\n",
    "\n",
    "# Early stopping\n",
    "early_stopping = EarlyStopping(monitor='val_loss', patience=10, restore_best_weights=True)\n",
    "\n",
    "# Train model\n",
    "history = model.fit(\n",
    "    X_train, y_train,\n",
    "    validation_data=(X_test, y_test),\n",
    "    epochs=100,\n",
    "    batch_size=32,\n",
    "    callbacks=[early_stopping],\n",
    "    verbose=1\n",
    ")"
   ]
  },
  {
   "cell_type": "code",
   "execution_count": 32,
   "id": "bcbc1f8b-f173-4a4a-bfc4-5b066fbf66da",
   "metadata": {},
   "outputs": [
    {
     "data": {
      "image/png": "[encoded data removed]",
      "text/plain": [
       "<Figure size 640x480 with 1 Axes>"
      ]
     },
     "metadata": {},
     "output_type": "display_data"
    }
   ],
   "source": [
    "# Plot training history\n",
    "plt.plot(history.history['loss'], label='Training Loss')\n",
    "plt.plot(history.history['val_loss'], label='Validation Loss')\n",
    "plt.legend()\n",
    "plt.title('Model Loss')\n",
    "plt.show()"
   ]
  },
  {
   "cell_type": "code",
   "execution_count": 33,
   "id": "b458be87-d6b0-41ee-8f89-19e7730b93eb",
   "metadata": {},
   "outputs": [],
   "source": [
    "forecast = []\n",
    "current_sequence = data_scaled[-sequence_length:].copy()  # Ambil sequence terakhir dari data\n",
    "\n",
    "for i in range(365):\n",
    "    # Prediksi langkah berikutnya\n",
    "    pred = model.predict(current_sequence[np.newaxis, :, :], verbose=0)\n",
    "    forecast.append(pred.flatten()[0])\n",
    "\n",
    "    # Teacher forcing: tambahkan nilai aktual jika tersedia\n",
    "    if i < len(y_test):\n",
    "        current_sequence = np.append(current_sequence[1:], y_test[i]).reshape(-1, 1)\n",
    "    else:\n",
    "        current_sequence = np.append(current_sequence[1:], pred).reshape(-1, 1)\n",
    "\n",
    "# Inverse scaling\n",
    "forecast = scaler.inverse_transform(np.array(forecast).reshape(-1, 1))"
   ]
  },
  {
   "cell_type": "code",
   "execution_count": 34,
   "id": "1f9eb607-281c-4bc3-b3f0-f4270a838035",
   "metadata": {},
   "outputs": [
    {
     "data": {
      "image/png": "[encoded data removed]",
      "text/plain": [
       "<Figure size 1200x600 with 1 Axes>"
      ]
     },
     "metadata": {},
     "output_type": "display_data"
    }
   ],
   "source": [
    "# === Step 6: Visualize Results ===\n",
    "forecast_dates = pd.date_range(start=df.index[-1] + pd.Timedelta(days=1), periods=365)\n",
    "forecast_df = pd.DataFrame({'Date': forecast_dates, 'Forecast': forecast.flatten()})\n",
    "forecast_df.set_index('Date', inplace=True)\n",
    "\n",
    "# Combine historical data and forecast\n",
    "df_combined = pd.concat([df, forecast_df])\n",
    "\n",
    "# Plot\n",
    "plt.figure(figsize=(12, 6))\n",
    "plt.plot(df_combined.index, df_combined['Curah_Hujan'], label='Data Historis')\n",
    "plt.plot(forecast_df.index, forecast_df['Forecast'], label='Peramalan', color='red')\n",
    "plt.title('Data Historis and 365-hari Peramalan Curah Hujan')\n",
    "plt.legend()\n",
    "plt.show()"
   ]
  },
  {
   "cell_type": "code",
   "execution_count": 35,
   "id": "02d1caba-3456-4715-882a-83e38a4f3983",
   "metadata": {},
   "outputs": [
    {
     "data": {
      "text/html": [
       "<div>\n",
       "<style scoped>\n",
       "    .dataframe tbody tr th:only-of-type {\n",
       "        vertical-align: middle;\n",
       "    }\n",
       "\n",
       "    .dataframe tbody tr th {\n",
       "        vertical-align: top;\n",
       "    }\n",
       "\n",
       "    .dataframe thead th {\n",
       "        text-align: right;\n",
       "    }\n",
       "</style>\n",
       "<table border=\"1\" class=\"dataframe\">\n",
       "  <thead>\n",
       "    <tr style=\"text-align: right;\">\n",
       "      <th></th>\n",
       "      <th>Forecast</th>\n",
       "    </tr>\n",
       "    <tr>\n",
       "      <th>Date</th>\n",
       "      <th></th>\n",
       "    </tr>\n",
       "  </thead>\n",
       "  <tbody>\n",
       "    <tr>\n",
       "      <th>2024-11-01</th>\n",
       "      <td>3.261950</td>\n",
       "    </tr>\n",
       "    <tr>\n",
       "      <th>2024-11-02</th>\n",
       "      <td>3.093819</td>\n",
       "    </tr>\n",
       "    <tr>\n",
       "      <th>2024-11-03</th>\n",
       "      <td>2.960544</td>\n",
       "    </tr>\n",
       "    <tr>\n",
       "      <th>2024-11-04</th>\n",
       "      <td>3.231370</td>\n",
       "    </tr>\n",
       "    <tr>\n",
       "      <th>2024-11-05</th>\n",
       "      <td>3.084339</td>\n",
       "    </tr>\n",
       "    <tr>\n",
       "      <th>...</th>\n",
       "      <td>...</td>\n",
       "    </tr>\n",
       "    <tr>\n",
       "      <th>2025-10-27</th>\n",
       "      <td>4.626905</td>\n",
       "    </tr>\n",
       "    <tr>\n",
       "      <th>2025-10-28</th>\n",
       "      <td>5.421366</td>\n",
       "    </tr>\n",
       "    <tr>\n",
       "      <th>2025-10-29</th>\n",
       "      <td>5.250920</td>\n",
       "    </tr>\n",
       "    <tr>\n",
       "      <th>2025-10-30</th>\n",
       "      <td>5.654392</td>\n",
       "    </tr>\n",
       "    <tr>\n",
       "      <th>2025-10-31</th>\n",
       "      <td>7.343019</td>\n",
       "    </tr>\n",
       "  </tbody>\n",
       "</table>\n",
       "<p>365 rows × 1 columns</p>\n",
       "</div>"
      ],
      "text/plain": [
       "            Forecast\n",
       "Date                \n",
       "2024-11-01  3.261950\n",
       "2024-11-02  3.093819\n",
       "2024-11-03  2.960544\n",
       "2024-11-04  3.231370\n",
       "2024-11-05  3.084339\n",
       "...              ...\n",
       "2025-10-27  4.626905\n",
       "2025-10-28  5.421366\n",
       "2025-10-29  5.250920\n",
       "2025-10-30  5.654392\n",
       "2025-10-31  7.343019\n",
       "\n",
       "[365 rows x 1 columns]"
      ]
     },
     "execution_count": 35,
     "metadata": {},
     "output_type": "execute_result"
    }
   ],
   "source": [
    "forecast_df"
   ]
  },
  {
   "cell_type": "code",
   "execution_count": 36,
   "id": "b5f316ca-5bf1-487a-8f4d-2c35b33b10c2",
   "metadata": {},
   "outputs": [
    {
     "ename": "OSError",
     "evalue": "Cannot save file into a non-existent directory: 'D:\\cool\\TA\\data'",
     "output_type": "error",
     "traceback": [
      "\u001b[1;31m---------------------------------------------------------------------------\u001b[0m",
      "\u001b[1;31mOSError\u001b[0m                                   Traceback (most recent call last)",
      "Cell \u001b[1;32mIn[36], line 1\u001b[0m\n\u001b[1;32m----> 1\u001b[0m forecast_df\u001b[38;5;241m.\u001b[39mto_csv(\u001b[38;5;124m'\u001b[39m\u001b[38;5;124mD:/cool/TA/data/lstm curah nasa.csv\u001b[39m\u001b[38;5;124m'\u001b[39m, index\u001b[38;5;241m=\u001b[39m\u001b[38;5;28;01mFalse\u001b[39;00m)\n",
      "File \u001b[1;32m~\\anaconda3\\Lib\\site-packages\\pandas\\util\\_decorators.py:333\u001b[0m, in \u001b[0;36mdeprecate_nonkeyword_arguments.<locals>.decorate.<locals>.wrapper\u001b[1;34m(*args, **kwargs)\u001b[0m\n\u001b[0;32m    327\u001b[0m \u001b[38;5;28;01mif\u001b[39;00m \u001b[38;5;28mlen\u001b[39m(args) \u001b[38;5;241m>\u001b[39m num_allow_args:\n\u001b[0;32m    328\u001b[0m     warnings\u001b[38;5;241m.\u001b[39mwarn(\n\u001b[0;32m    329\u001b[0m         msg\u001b[38;5;241m.\u001b[39mformat(arguments\u001b[38;5;241m=\u001b[39m_format_argument_list(allow_args)),\n\u001b[0;32m    330\u001b[0m         \u001b[38;5;167;01mFutureWarning\u001b[39;00m,\n\u001b[0;32m    331\u001b[0m         stacklevel\u001b[38;5;241m=\u001b[39mfind_stack_level(),\n\u001b[0;32m    332\u001b[0m     )\n\u001b[1;32m--> 333\u001b[0m \u001b[38;5;28;01mreturn\u001b[39;00m func(\u001b[38;5;241m*\u001b[39margs, \u001b[38;5;241m*\u001b[39m\u001b[38;5;241m*\u001b[39mkwargs)\n",
      "File \u001b[1;32m~\\anaconda3\\Lib\\site-packages\\pandas\\core\\generic.py:3967\u001b[0m, in \u001b[0;36mNDFrame.to_csv\u001b[1;34m(self, path_or_buf, sep, na_rep, float_format, columns, header, index, index_label, mode, encoding, compression, quoting, quotechar, lineterminator, chunksize, date_format, doublequote, escapechar, decimal, errors, storage_options)\u001b[0m\n\u001b[0;32m   3956\u001b[0m df \u001b[38;5;241m=\u001b[39m \u001b[38;5;28mself\u001b[39m \u001b[38;5;28;01mif\u001b[39;00m \u001b[38;5;28misinstance\u001b[39m(\u001b[38;5;28mself\u001b[39m, ABCDataFrame) \u001b[38;5;28;01melse\u001b[39;00m \u001b[38;5;28mself\u001b[39m\u001b[38;5;241m.\u001b[39mto_frame()\n\u001b[0;32m   3958\u001b[0m formatter \u001b[38;5;241m=\u001b[39m DataFrameFormatter(\n\u001b[0;32m   3959\u001b[0m     frame\u001b[38;5;241m=\u001b[39mdf,\n\u001b[0;32m   3960\u001b[0m     header\u001b[38;5;241m=\u001b[39mheader,\n\u001b[1;32m   (...)\u001b[0m\n\u001b[0;32m   3964\u001b[0m     decimal\u001b[38;5;241m=\u001b[39mdecimal,\n\u001b[0;32m   3965\u001b[0m )\n\u001b[1;32m-> 3967\u001b[0m \u001b[38;5;28;01mreturn\u001b[39;00m DataFrameRenderer(formatter)\u001b[38;5;241m.\u001b[39mto_csv(\n\u001b[0;32m   3968\u001b[0m     path_or_buf,\n\u001b[0;32m   3969\u001b[0m     lineterminator\u001b[38;5;241m=\u001b[39mlineterminator,\n\u001b[0;32m   3970\u001b[0m     sep\u001b[38;5;241m=\u001b[39msep,\n\u001b[0;32m   3971\u001b[0m     encoding\u001b[38;5;241m=\u001b[39mencoding,\n\u001b[0;32m   3972\u001b[0m     errors\u001b[38;5;241m=\u001b[39merrors,\n\u001b[0;32m   3973\u001b[0m     compression\u001b[38;5;241m=\u001b[39mcompression,\n\u001b[0;32m   3974\u001b[0m     quoting\u001b[38;5;241m=\u001b[39mquoting,\n\u001b[0;32m   3975\u001b[0m     columns\u001b[38;5;241m=\u001b[39mcolumns,\n\u001b[0;32m   3976\u001b[0m     index_label\u001b[38;5;241m=\u001b[39mindex_label,\n\u001b[0;32m   3977\u001b[0m     mode\u001b[38;5;241m=\u001b[39mmode,\n\u001b[0;32m   3978\u001b[0m     chunksize\u001b[38;5;241m=\u001b[39mchunksize,\n\u001b[0;32m   3979\u001b[0m     quotechar\u001b[38;5;241m=\u001b[39mquotechar,\n\u001b[0;32m   3980\u001b[0m     date_format\u001b[38;5;241m=\u001b[39mdate_format,\n\u001b[0;32m   3981\u001b[0m     doublequote\u001b[38;5;241m=\u001b[39mdoublequote,\n\u001b[0;32m   3982\u001b[0m     escapechar\u001b[38;5;241m=\u001b[39mescapechar,\n\u001b[0;32m   3983\u001b[0m     storage_options\u001b[38;5;241m=\u001b[39mstorage_options,\n\u001b[0;32m   3984\u001b[0m )\n",
      "File \u001b[1;32m~\\anaconda3\\Lib\\site-packages\\pandas\\io\\formats\\format.py:1014\u001b[0m, in \u001b[0;36mDataFrameRenderer.to_csv\u001b[1;34m(self, path_or_buf, encoding, sep, columns, index_label, mode, compression, quoting, quotechar, lineterminator, chunksize, date_format, doublequote, escapechar, errors, storage_options)\u001b[0m\n\u001b[0;32m    993\u001b[0m     created_buffer \u001b[38;5;241m=\u001b[39m \u001b[38;5;28;01mFalse\u001b[39;00m\n\u001b[0;32m    995\u001b[0m csv_formatter \u001b[38;5;241m=\u001b[39m CSVFormatter(\n\u001b[0;32m    996\u001b[0m     path_or_buf\u001b[38;5;241m=\u001b[39mpath_or_buf,\n\u001b[0;32m    997\u001b[0m     lineterminator\u001b[38;5;241m=\u001b[39mlineterminator,\n\u001b[1;32m   (...)\u001b[0m\n\u001b[0;32m   1012\u001b[0m     formatter\u001b[38;5;241m=\u001b[39m\u001b[38;5;28mself\u001b[39m\u001b[38;5;241m.\u001b[39mfmt,\n\u001b[0;32m   1013\u001b[0m )\n\u001b[1;32m-> 1014\u001b[0m csv_formatter\u001b[38;5;241m.\u001b[39msave()\n\u001b[0;32m   1016\u001b[0m \u001b[38;5;28;01mif\u001b[39;00m created_buffer:\n\u001b[0;32m   1017\u001b[0m     \u001b[38;5;28;01massert\u001b[39;00m \u001b[38;5;28misinstance\u001b[39m(path_or_buf, StringIO)\n",
      "File \u001b[1;32m~\\anaconda3\\Lib\\site-packages\\pandas\\io\\formats\\csvs.py:251\u001b[0m, in \u001b[0;36mCSVFormatter.save\u001b[1;34m(self)\u001b[0m\n\u001b[0;32m    247\u001b[0m \u001b[38;5;250m\u001b[39m\u001b[38;5;124;03m\"\"\"\u001b[39;00m\n\u001b[0;32m    248\u001b[0m \u001b[38;5;124;03mCreate the writer & save.\u001b[39;00m\n\u001b[0;32m    249\u001b[0m \u001b[38;5;124;03m\"\"\"\u001b[39;00m\n\u001b[0;32m    250\u001b[0m \u001b[38;5;66;03m# apply compression and byte/text conversion\u001b[39;00m\n\u001b[1;32m--> 251\u001b[0m \u001b[38;5;28;01mwith\u001b[39;00m get_handle(\n\u001b[0;32m    252\u001b[0m     \u001b[38;5;28mself\u001b[39m\u001b[38;5;241m.\u001b[39mfilepath_or_buffer,\n\u001b[0;32m    253\u001b[0m     \u001b[38;5;28mself\u001b[39m\u001b[38;5;241m.\u001b[39mmode,\n\u001b[0;32m    254\u001b[0m     encoding\u001b[38;5;241m=\u001b[39m\u001b[38;5;28mself\u001b[39m\u001b[38;5;241m.\u001b[39mencoding,\n\u001b[0;32m    255\u001b[0m     errors\u001b[38;5;241m=\u001b[39m\u001b[38;5;28mself\u001b[39m\u001b[38;5;241m.\u001b[39merrors,\n\u001b[0;32m    256\u001b[0m     compression\u001b[38;5;241m=\u001b[39m\u001b[38;5;28mself\u001b[39m\u001b[38;5;241m.\u001b[39mcompression,\n\u001b[0;32m    257\u001b[0m     storage_options\u001b[38;5;241m=\u001b[39m\u001b[38;5;28mself\u001b[39m\u001b[38;5;241m.\u001b[39mstorage_options,\n\u001b[0;32m    258\u001b[0m ) \u001b[38;5;28;01mas\u001b[39;00m handles:\n\u001b[0;32m    259\u001b[0m     \u001b[38;5;66;03m# Note: self.encoding is irrelevant here\u001b[39;00m\n\u001b[0;32m    260\u001b[0m     \u001b[38;5;28mself\u001b[39m\u001b[38;5;241m.\u001b[39mwriter \u001b[38;5;241m=\u001b[39m csvlib\u001b[38;5;241m.\u001b[39mwriter(\n\u001b[0;32m    261\u001b[0m         handles\u001b[38;5;241m.\u001b[39mhandle,\n\u001b[0;32m    262\u001b[0m         lineterminator\u001b[38;5;241m=\u001b[39m\u001b[38;5;28mself\u001b[39m\u001b[38;5;241m.\u001b[39mlineterminator,\n\u001b[1;32m   (...)\u001b[0m\n\u001b[0;32m    267\u001b[0m         quotechar\u001b[38;5;241m=\u001b[39m\u001b[38;5;28mself\u001b[39m\u001b[38;5;241m.\u001b[39mquotechar,\n\u001b[0;32m    268\u001b[0m     )\n\u001b[0;32m    270\u001b[0m     \u001b[38;5;28mself\u001b[39m\u001b[38;5;241m.\u001b[39m_save()\n",
      "File \u001b[1;32m~\\anaconda3\\Lib\\site-packages\\pandas\\io\\common.py:749\u001b[0m, in \u001b[0;36mget_handle\u001b[1;34m(path_or_buf, mode, encoding, compression, memory_map, is_text, errors, storage_options)\u001b[0m\n\u001b[0;32m    747\u001b[0m \u001b[38;5;66;03m# Only for write methods\u001b[39;00m\n\u001b[0;32m    748\u001b[0m \u001b[38;5;28;01mif\u001b[39;00m \u001b[38;5;124m\"\u001b[39m\u001b[38;5;124mr\u001b[39m\u001b[38;5;124m\"\u001b[39m \u001b[38;5;129;01mnot\u001b[39;00m \u001b[38;5;129;01min\u001b[39;00m mode \u001b[38;5;129;01mand\u001b[39;00m is_path:\n\u001b[1;32m--> 749\u001b[0m     check_parent_directory(\u001b[38;5;28mstr\u001b[39m(handle))\n\u001b[0;32m    751\u001b[0m \u001b[38;5;28;01mif\u001b[39;00m compression:\n\u001b[0;32m    752\u001b[0m     \u001b[38;5;28;01mif\u001b[39;00m compression \u001b[38;5;241m!=\u001b[39m \u001b[38;5;124m\"\u001b[39m\u001b[38;5;124mzstd\u001b[39m\u001b[38;5;124m\"\u001b[39m:\n\u001b[0;32m    753\u001b[0m         \u001b[38;5;66;03m# compression libraries do not like an explicit text-mode\u001b[39;00m\n",
      "File \u001b[1;32m~\\anaconda3\\Lib\\site-packages\\pandas\\io\\common.py:616\u001b[0m, in \u001b[0;36mcheck_parent_directory\u001b[1;34m(path)\u001b[0m\n\u001b[0;32m    614\u001b[0m parent \u001b[38;5;241m=\u001b[39m Path(path)\u001b[38;5;241m.\u001b[39mparent\n\u001b[0;32m    615\u001b[0m \u001b[38;5;28;01mif\u001b[39;00m \u001b[38;5;129;01mnot\u001b[39;00m parent\u001b[38;5;241m.\u001b[39mis_dir():\n\u001b[1;32m--> 616\u001b[0m     \u001b[38;5;28;01mraise\u001b[39;00m \u001b[38;5;167;01mOSError\u001b[39;00m(\u001b[38;5;124mrf\u001b[39m\u001b[38;5;124m\"\u001b[39m\u001b[38;5;124mCannot save file into a non-existent directory: \u001b[39m\u001b[38;5;124m'\u001b[39m\u001b[38;5;132;01m{\u001b[39;00mparent\u001b[38;5;132;01m}\u001b[39;00m\u001b[38;5;124m'\u001b[39m\u001b[38;5;124m\"\u001b[39m)\n",
      "\u001b[1;31mOSError\u001b[0m: Cannot save file into a non-existent directory: 'D:\\cool\\TA\\data'"
     ]
    }
   ],
   "source": [
    "forecast_df.to_csv('D:/cool/TA/data/lstm curah nasa.csv', index=False)"
   ]
  },
  {
   "cell_type": "code",
   "execution_count": null,
   "id": "dec33c49-e9b8-4d62-985e-869121babc7f",
   "metadata": {},
   "outputs": [],
   "source": []
  },
  {
   "cell_type": "code",
   "execution_count": null,
   "id": "e3dafd62-f8bc-4acb-ac5d-c8eaabd16a9c",
   "metadata": {},
   "outputs": [],
   "source": []
  },
  {
   "cell_type": "code",
   "execution_count": null,
   "id": "b1450a17-9c37-409a-8365-2860d15c5bc0",
   "metadata": {},
   "outputs": [],
   "source": []
  },
  {
   "cell_type": "code",
   "execution_count": null,
   "id": "060fb57a-2196-4a7b-8bbe-7e8d968f0a07",
   "metadata": {},
   "outputs": [],
   "source": [
    "from sklearn.preprocessing import MinMaxScaler\n",
    "\n",
    "# Normalize the data\n",
    "scaler = MinMaxScaler()\n",
    "scaled_data = scaler.fit_transform(df)\n",
    "\n",
    "# Define sequence length and features\n",
    "sequence_length = 10  # Number of time steps in each sequence\n",
    "num_features = len(df.columns)\n",
    "\n",
    "# Create sequences and corresponding labels\n",
    "def create_sequences(df, seq_length):\n",
    "    sequences = []\n",
    "    labels = []\n",
    "    for i in range(len(scaled_data) - sequence_length):\n",
    "        seq = scaled_data[i:i+sequence_length]\n",
    "        label = scaled_data[i+sequence_length][2]  # column index\n",
    "        sequences.append(seq)\n",
    "        labels.append(label)\n",
    "    return np.array(sequences), np.array(labels)\n",
    "\n",
    "SEQ_LENGTH = 365  # for 24 hours sequence\n",
    "sequences, labels = create_sequences(scaled_data, SEQ_LENGTH)\n",
    "\n",
    "# Split into train and test sets\n",
    "train_size = int(0.9 * len(sequences))\n",
    "train_x, test_x = sequences[:train_size], sequences[train_size:]\n",
    "train_y, test_y = labels[:train_size], labels[train_size:]\n",
    "\n",
    "print(\"Train X shape:\", train_x.shape)\n",
    "print(\"Train Y shape:\", train_y.shape)\n",
    "print(\"Test X shape:\", test_x.shape)\n",
    "print(\"Test Y shape:\", test_y.shape)"
   ]
  },
  {
   "cell_type": "code",
   "execution_count": null,
   "id": "795440a2-7d06-4761-9883-ea11e0e0f961",
   "metadata": {},
   "outputs": [],
   "source": [
    "from tensorflow.keras.models import Sequential\n",
    "from tensorflow.keras.layers import LSTM, Dense, Dropout\n",
    "from tensorflow.keras.callbacks import EarlyStopping, ModelCheckpoint\n",
    "\n",
    "# Create the LSTM model\n",
    "model = Sequential()\n",
    "\n",
    "# Add LSTM layers with dropout\n",
    "model.add(LSTM(units=128, input_shape=(train_x.shape[1], train_x.shape[2]), \n",
    "               return_sequences=True))\n",
    "model.add(Dropout(0.2))\n",
    "\n",
    "model.add(LSTM(units=64, return_sequences=True))\n",
    "model.add(Dropout(0.2))\n",
    "\n",
    "model.add(LSTM(units=32, return_sequences=False))\n",
    "model.add(Dropout(0.2))\n",
    "\n",
    "# Add a dense output layer\n",
    "model.add(Dense(units=1))\n",
    "\n",
    "# Compile the model\n",
    "model.compile(optimizer='adam', loss='mean_squared_error')"
   ]
  },
  {
   "cell_type": "code",
   "execution_count": null,
   "id": "98094106-38e5-49ba-bbfb-df13d195c320",
   "metadata": {},
   "outputs": [],
   "source": [
    "# Define callbacks\n",
    "early_stopping = EarlyStopping(monitor='val_loss', patience=5, \n",
    "                               restore_best_weights=True)\n",
    "\n",
    "# Train the model\n",
    "history = model.fit(\n",
    "    train_x, train_y,\n",
    "    epochs=100,\n",
    "    batch_size=64,\n",
    "    validation_split=0.2,  # Use part of the training data as validation\n",
    "    callbacks=[early_stopping]\n",
    ")"
   ]
  },
  {
   "cell_type": "code",
   "execution_count": null,
   "id": "ecc7e0ab-ae8a-4d0c-a0fb-720d829591a9",
   "metadata": {},
   "outputs": [],
   "source": [
    "# Simple RNN\n",
    "plt.figure(figsize=(10,6))\n",
    "plt.plot(history.history['loss'], label='Training Loss')\n",
    "plt.plot(history.history['val_loss'], label='Validation Loss')\n",
    "plt.title('Simple RNN Training and Validation Loss')\n",
    "plt.xlabel('Epochs')\n",
    "plt.ylabel('Loss')\n",
    "plt.legend()"
   ]
  },
  {
   "cell_type": "code",
   "execution_count": null,
   "id": "0e802383-0014-4ead-8c11-7709fd8b6aef",
   "metadata": {},
   "outputs": [],
   "source": [
    "from sklearn.metrics import mean_absolute_error, mean_squared_error\n",
    "\n",
    "# Also, 'test_x' and 'test_y' should be available\n",
    "\n",
    "# Predict temperatures using the trained model\n",
    "predictions = model.predict(test_x)\n",
    "\n",
    "# Calculate evaluation metrics 90:10\n",
    "mae = mean_absolute_error(test_y, predictions)\n",
    "mse = mean_squared_error(test_y, predictions)\n",
    "rmse = np.sqrt(mse)\n",
    "\n",
    "print(\"Mean Absolute Error (MAE):\", mae)\n",
    "print(\"Mean Squared Error (MSE):\", mse)\n",
    "print(\"Root Mean Squared Error (RMSE):\", rmse)"
   ]
  },
  {
   "cell_type": "code",
   "execution_count": null,
   "id": "fb42fc20-90cc-4602-a14f-367d45369f41",
   "metadata": {},
   "outputs": [],
   "source": [
    "plt.figure(figsize=(10, 6))\n",
    "plt.plot(test_y, label='Actual')\n",
    "plt.plot(predictions, label='Predicted')\n",
    "plt.title('Curah Hujan Prediction vs Actual 90:10')\n",
    "plt.xlabel('Time')\n",
    "plt.ylabel('Curah Hujan')\n",
    "plt.legend()\n",
    "plt.show()"
   ]
  },
  {
   "cell_type": "code",
   "execution_count": null,
   "id": "9b9a8716-6406-491d-bbd4-9f76d8d0b1c7",
   "metadata": {},
   "outputs": [],
   "source": [
    "epsilon = 0.01  # Nilai kecil untuk mengurangi sensitivitas terhadap nilai kecil\n",
    "MAPE_modified = np.mean(np.abs((test_y - predictions) / (test_y + epsilon))) * 100\n",
    "print(\"MAPE Modified:\", MAPE_modified)"
   ]
  },
  {
   "cell_type": "code",
   "execution_count": null,
   "id": "4da54b92-9aa3-4713-8f5c-32fc69290474",
   "metadata": {},
   "outputs": [],
   "source": []
  }
 ],
 "metadata": {
  "kernelspec": {
   "display_name": "Python 3 (ipykernel)",
   "language": "python",
   "name": "python3"
  },
  "language_info": {
   "codemirror_mode": {
    "name": "ipython",
    "version": 3
   },
   "file_extension": ".py",
   "mimetype": "text/x-python",
   "name": "python",
   "nbconvert_exporter": "python",
   "pygments_lexer": "ipython3",
   "version": "3.12.7"
  }
 },
 "nbformat": 4,
 "nbformat_minor": 5
}
